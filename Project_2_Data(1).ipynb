{
  "nbformat": 4,
  "nbformat_minor": 0,
  "metadata": {
    "colab": {
      "provenance": [],
      "authorship_tag": "ABX9TyMb9CnF/gL9dwULq/XLCAuL",
      "include_colab_link": true
    },
    "kernelspec": {
      "name": "python3",
      "display_name": "Python 3"
    },
    "language_info": {
      "name": "python"
    }
  },
  "cells": [
    {
      "cell_type": "markdown",
      "metadata": {
        "id": "view-in-github",
        "colab_type": "text"
      },
      "source": [
        "<a href=\"https://colab.research.google.com/github/JosephHobbs9292/Project-Two/blob/main/Project_2_Data(1).ipynb\" target=\"_parent\"><img src=\"https://colab.research.google.com/assets/colab-badge.svg\" alt=\"Open In Colab\"/></a>"
      ]
    },
    {
      "cell_type": "code",
      "execution_count": 1,
      "metadata": {
        "id": "-ZAWfm6-sotA"
      },
      "outputs": [],
      "source": [
        "## Importing Libraries\n",
        "\n",
        "import pandas as pd\n"
      ]
    },
    {
      "cell_type": "code",
      "source": [
        "## Mounting Drive\n",
        "from google.colab import drive\n",
        "drive.mount('/content/drive')"
      ],
      "metadata": {
        "colab": {
          "base_uri": "https://localhost:8080/"
        },
        "id": "Pz8-GfcQszw-",
        "outputId": "a7bae79a-4b0f-4286-b862-2417c265cf7e"
      },
      "execution_count": 2,
      "outputs": [
        {
          "output_type": "stream",
          "name": "stdout",
          "text": [
            "Mounted at /content/drive\n"
          ]
        }
      ]
    },
    {
      "cell_type": "code",
      "source": [
        "df_graduation = pd.read_csv(\"/content/Project One Data - Final Data.csv\")\n",
        "df_graduation.head()"
      ],
      "metadata": {
        "colab": {
          "base_uri": "https://localhost:8080/",
          "height": 406
        },
        "id": "4L1Zc6_Is8to",
        "outputId": "899ebbf7-a699-435e-8db6-7c4c7163362b"
      },
      "execution_count": 3,
      "outputs": [
        {
          "output_type": "execute_result",
          "data": {
            "text/plain": [
              "        Contact ID  Zip Code                                  High School  \\\n",
              "0  0031G00000q9mag       NaN                                          NaN   \n",
              "1  0031G00000q9mal       NaN                                          NaN   \n",
              "2  0031G00000q9mb0       NaN                                          NaN   \n",
              "3  0031G00000q9mfW       NaN                                          NaN   \n",
              "4  0031G00000q9nLu   85035.0  Western School of Science and Technology HS   \n",
              "\n",
              "  Gender  Cohort  Graduated                               College  \\\n",
              "0    NaN  2019.0          0           NORTHERN ARIZONA UNIVERSITY   \n",
              "1    NaN  2019.0          0              Arizona State University   \n",
              "2    NaN  2020.0          0           NORTHERN ARIZONA UNIVERSITY   \n",
              "3   Male  2014.0          0              Arizona State University   \n",
              "4    NaN  2021.0          0  SAE Institute of Technology-New York   \n",
              "\n",
              "  College Location Public/Private  Number of Sessions  \n",
              "0         In State         Public                  22  \n",
              "1         In State         Public                  22  \n",
              "2         In State         Public                  25  \n",
              "3         In State         Public                   4  \n",
              "4     Out of State        Private                  42  "
            ],
            "text/html": [
              "\n",
              "  <div id=\"df-a23354d8-a910-461d-a896-cc19733c2f18\">\n",
              "    <div class=\"colab-df-container\">\n",
              "      <div>\n",
              "<style scoped>\n",
              "    .dataframe tbody tr th:only-of-type {\n",
              "        vertical-align: middle;\n",
              "    }\n",
              "\n",
              "    .dataframe tbody tr th {\n",
              "        vertical-align: top;\n",
              "    }\n",
              "\n",
              "    .dataframe thead th {\n",
              "        text-align: right;\n",
              "    }\n",
              "</style>\n",
              "<table border=\"1\" class=\"dataframe\">\n",
              "  <thead>\n",
              "    <tr style=\"text-align: right;\">\n",
              "      <th></th>\n",
              "      <th>Contact ID</th>\n",
              "      <th>Zip Code</th>\n",
              "      <th>High School</th>\n",
              "      <th>Gender</th>\n",
              "      <th>Cohort</th>\n",
              "      <th>Graduated</th>\n",
              "      <th>College</th>\n",
              "      <th>College Location</th>\n",
              "      <th>Public/Private</th>\n",
              "      <th>Number of Sessions</th>\n",
              "    </tr>\n",
              "  </thead>\n",
              "  <tbody>\n",
              "    <tr>\n",
              "      <th>0</th>\n",
              "      <td>0031G00000q9mag</td>\n",
              "      <td>NaN</td>\n",
              "      <td>NaN</td>\n",
              "      <td>NaN</td>\n",
              "      <td>2019.0</td>\n",
              "      <td>0</td>\n",
              "      <td>NORTHERN ARIZONA UNIVERSITY</td>\n",
              "      <td>In State</td>\n",
              "      <td>Public</td>\n",
              "      <td>22</td>\n",
              "    </tr>\n",
              "    <tr>\n",
              "      <th>1</th>\n",
              "      <td>0031G00000q9mal</td>\n",
              "      <td>NaN</td>\n",
              "      <td>NaN</td>\n",
              "      <td>NaN</td>\n",
              "      <td>2019.0</td>\n",
              "      <td>0</td>\n",
              "      <td>Arizona State University</td>\n",
              "      <td>In State</td>\n",
              "      <td>Public</td>\n",
              "      <td>22</td>\n",
              "    </tr>\n",
              "    <tr>\n",
              "      <th>2</th>\n",
              "      <td>0031G00000q9mb0</td>\n",
              "      <td>NaN</td>\n",
              "      <td>NaN</td>\n",
              "      <td>NaN</td>\n",
              "      <td>2020.0</td>\n",
              "      <td>0</td>\n",
              "      <td>NORTHERN ARIZONA UNIVERSITY</td>\n",
              "      <td>In State</td>\n",
              "      <td>Public</td>\n",
              "      <td>25</td>\n",
              "    </tr>\n",
              "    <tr>\n",
              "      <th>3</th>\n",
              "      <td>0031G00000q9mfW</td>\n",
              "      <td>NaN</td>\n",
              "      <td>NaN</td>\n",
              "      <td>Male</td>\n",
              "      <td>2014.0</td>\n",
              "      <td>0</td>\n",
              "      <td>Arizona State University</td>\n",
              "      <td>In State</td>\n",
              "      <td>Public</td>\n",
              "      <td>4</td>\n",
              "    </tr>\n",
              "    <tr>\n",
              "      <th>4</th>\n",
              "      <td>0031G00000q9nLu</td>\n",
              "      <td>85035.0</td>\n",
              "      <td>Western School of Science and Technology HS</td>\n",
              "      <td>NaN</td>\n",
              "      <td>2021.0</td>\n",
              "      <td>0</td>\n",
              "      <td>SAE Institute of Technology-New York</td>\n",
              "      <td>Out of State</td>\n",
              "      <td>Private</td>\n",
              "      <td>42</td>\n",
              "    </tr>\n",
              "  </tbody>\n",
              "</table>\n",
              "</div>\n",
              "      <button class=\"colab-df-convert\" onclick=\"convertToInteractive('df-a23354d8-a910-461d-a896-cc19733c2f18')\"\n",
              "              title=\"Convert this dataframe to an interactive table.\"\n",
              "              style=\"display:none;\">\n",
              "        \n",
              "  <svg xmlns=\"http://www.w3.org/2000/svg\" height=\"24px\"viewBox=\"0 0 24 24\"\n",
              "       width=\"24px\">\n",
              "    <path d=\"M0 0h24v24H0V0z\" fill=\"none\"/>\n",
              "    <path d=\"M18.56 5.44l.94 2.06.94-2.06 2.06-.94-2.06-.94-.94-2.06-.94 2.06-2.06.94zm-11 1L8.5 8.5l.94-2.06 2.06-.94-2.06-.94L8.5 2.5l-.94 2.06-2.06.94zm10 10l.94 2.06.94-2.06 2.06-.94-2.06-.94-.94-2.06-.94 2.06-2.06.94z\"/><path d=\"M17.41 7.96l-1.37-1.37c-.4-.4-.92-.59-1.43-.59-.52 0-1.04.2-1.43.59L10.3 9.45l-7.72 7.72c-.78.78-.78 2.05 0 2.83L4 21.41c.39.39.9.59 1.41.59.51 0 1.02-.2 1.41-.59l7.78-7.78 2.81-2.81c.8-.78.8-2.07 0-2.86zM5.41 20L4 18.59l7.72-7.72 1.47 1.35L5.41 20z\"/>\n",
              "  </svg>\n",
              "      </button>\n",
              "      \n",
              "  <style>\n",
              "    .colab-df-container {\n",
              "      display:flex;\n",
              "      flex-wrap:wrap;\n",
              "      gap: 12px;\n",
              "    }\n",
              "\n",
              "    .colab-df-convert {\n",
              "      background-color: #E8F0FE;\n",
              "      border: none;\n",
              "      border-radius: 50%;\n",
              "      cursor: pointer;\n",
              "      display: none;\n",
              "      fill: #1967D2;\n",
              "      height: 32px;\n",
              "      padding: 0 0 0 0;\n",
              "      width: 32px;\n",
              "    }\n",
              "\n",
              "    .colab-df-convert:hover {\n",
              "      background-color: #E2EBFA;\n",
              "      box-shadow: 0px 1px 2px rgba(60, 64, 67, 0.3), 0px 1px 3px 1px rgba(60, 64, 67, 0.15);\n",
              "      fill: #174EA6;\n",
              "    }\n",
              "\n",
              "    [theme=dark] .colab-df-convert {\n",
              "      background-color: #3B4455;\n",
              "      fill: #D2E3FC;\n",
              "    }\n",
              "\n",
              "    [theme=dark] .colab-df-convert:hover {\n",
              "      background-color: #434B5C;\n",
              "      box-shadow: 0px 1px 3px 1px rgba(0, 0, 0, 0.15);\n",
              "      filter: drop-shadow(0px 1px 2px rgba(0, 0, 0, 0.3));\n",
              "      fill: #FFFFFF;\n",
              "    }\n",
              "  </style>\n",
              "\n",
              "      <script>\n",
              "        const buttonEl =\n",
              "          document.querySelector('#df-a23354d8-a910-461d-a896-cc19733c2f18 button.colab-df-convert');\n",
              "        buttonEl.style.display =\n",
              "          google.colab.kernel.accessAllowed ? 'block' : 'none';\n",
              "\n",
              "        async function convertToInteractive(key) {\n",
              "          const element = document.querySelector('#df-a23354d8-a910-461d-a896-cc19733c2f18');\n",
              "          const dataTable =\n",
              "            await google.colab.kernel.invokeFunction('convertToInteractive',\n",
              "                                                     [key], {});\n",
              "          if (!dataTable) return;\n",
              "\n",
              "          const docLinkHtml = 'Like what you see? Visit the ' +\n",
              "            '<a target=\"_blank\" href=https://colab.research.google.com/notebooks/data_table.ipynb>data table notebook</a>'\n",
              "            + ' to learn more about interactive tables.';\n",
              "          element.innerHTML = '';\n",
              "          dataTable['output_type'] = 'display_data';\n",
              "          await google.colab.output.renderOutput(dataTable, element);\n",
              "          const docLink = document.createElement('div');\n",
              "          docLink.innerHTML = docLinkHtml;\n",
              "          element.appendChild(docLink);\n",
              "        }\n",
              "      </script>\n",
              "    </div>\n",
              "  </div>\n",
              "  "
            ]
          },
          "metadata": {},
          "execution_count": 3
        }
      ]
    },
    {
      "cell_type": "code",
      "source": [
        "df_graduation.shape"
      ],
      "metadata": {
        "colab": {
          "base_uri": "https://localhost:8080/"
        },
        "id": "lnli2A9iteSW",
        "outputId": "3fde0580-225e-49b7-b5be-5a4bbc4fc125"
      },
      "execution_count": 4,
      "outputs": [
        {
          "output_type": "execute_result",
          "data": {
            "text/plain": [
              "(5644, 10)"
            ]
          },
          "metadata": {},
          "execution_count": 4
        }
      ]
    },
    {
      "cell_type": "markdown",
      "source": [
        "--- \n",
        "## Data Explanation\n",
        "\n",
        "---\n",
        "1. Be A Leader Foundation \n",
        "2. The data show wether or not a student graduated from college with some relevant fields to their graduation success\n",
        "3. The target is the graduation column\n",
        "4. Each row is one student and their relevant data such as zip or high school\n",
        "5. This is a binary classification problem focusing on wether or not a student graduated from college\n",
        "6. There are 8 features in the dataset: Zip code, high school, gender, cohort, college, public or private college, number of working sessions\n",
        "7. 5644\n",
        "8. There is some missing data and perhaps inconsistent naming amongst the colleges that will need to be cleaned up. "
      ],
      "metadata": {
        "id": "5jDsIx8mtPTA"
      }
    }
  ]
}